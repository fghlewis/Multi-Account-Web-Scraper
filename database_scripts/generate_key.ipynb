{
 "cells": [
  {
   "cell_type": "markdown",
   "metadata": {},
   "source": [
    "## Generate our Key \n",
    "In this code, we will generate a key using fernet to encyrpt/decrpyt the passwords for every user.\n",
    "\n",
    "Output: We have sucessfully created a secure file that holds our key!\n"
   ]
  },
  {
   "cell_type": "code",
   "execution_count": null,
   "metadata": {},
   "outputs": [
    {
     "name": "stdout",
     "output_type": "stream",
     "text": [
      "Encryption key generated and saved to credentials/key.key\n"
     ]
    }
   ],
   "source": [
    "from cryptography.fernet import Fernet\n",
    "import os\n",
    "\n",
    "# Generate and save key\n",
    "# use Fernet object to generate a key\n",
    "key = Fernet.generate_key()\n",
    "with open(\"../credentials/key.key\", \"wb\") as key_file:\n",
    "    key_file.write(key)\n",
    "\n",
    "print(\"Encryption key generated and saved to credentials/key.key\")\n"
   ]
  },
  {
   "cell_type": "code",
   "execution_count": null,
   "metadata": {},
   "outputs": [],
   "source": []
  }
 ],
 "metadata": {
  "kernelspec": {
   "display_name": "webscraping",
   "language": "python",
   "name": "python3"
  },
  "language_info": {
   "codemirror_mode": {
    "name": "ipython",
    "version": 3
   },
   "file_extension": ".py",
   "mimetype": "text/x-python",
   "name": "python",
   "nbconvert_exporter": "python",
   "pygments_lexer": "ipython3",
   "version": "3.10.18"
  }
 },
 "nbformat": 4,
 "nbformat_minor": 2
}
