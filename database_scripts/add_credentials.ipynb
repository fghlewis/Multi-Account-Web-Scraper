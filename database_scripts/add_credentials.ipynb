{
 "cells": [
  {
   "cell_type": "markdown",
   "metadata": {},
   "source": [
    "## Add our Accounts to the Database\n",
    "\n",
    "In this code, we will create a script that allows us to add a row with user information to our cred.db\n",
    "\n",
    "Output: We have sucessfully added one row of user information into our database! \n",
    "\n",
    "*Note:* re run this script to add as many users as we want to"
   ]
  },
  {
   "cell_type": "code",
   "execution_count": null,
   "metadata": {},
   "outputs": [],
   "source": [
    "import sqlite3\n",
    "from cryptography.fernet import Fernet\n",
    "import os\n",
    "from datetime import datetime\n",
    "import pandas as pd\n",
    "\n",
    "# read the credentials from the Excel file\n",
    "df = pd.read_excel(FILE_PATH)\n",
    "\n",
    "# Open the key file to read the encryption key\n",
    "with open(\"../credentials/key.key\", \"rb\") as key_file:\n",
    "    key = key_file.read()\n",
    "\n",
    "# Initialize the Fernet cipher with the key\n",
    "fernet = Fernet(key)\n",
    "\n",
    "# Define function\n",
    "def add_accounts():\n",
    "    # Connect to or create the SQLite DB\n",
    "    conn = sqlite3.connect(\"../database/scraper.db\")\n",
    "    # Create a cursor object to execute SQL commands\n",
    "    cursor = conn.cursor()\n",
    "\n",
    "    \n",
    "    # This is a away to iterate through each row in the dataframe\n",
    "    # itterows() is a pandas method that returns a tuple for each row (the index and the row data)\n",
    "    # we unpack the tuple into _ (we ignore the index) and row (which contains the row data as a Series)\n",
    "    # so we are just grabbing the row data to use in the loop\n",
    "    for _, row in df.iterrows():\n",
    "    \n",
    "        # input info into the database\n",
    "        username = row['username']\n",
    "        password = row['password']\n",
    "        proxy = row['proxy']\n",
    "        last_used = datetime.now().isoformat() # Get current time in ISO format\n",
    "        status = 'active' # Default status\n",
    "\n",
    "        # Encrypt the password\n",
    "        # password.encode() converts the password string to bytes so fernet.encrypt can process it and encrypt it\n",
    "        # so now we have an encryped password in bytes, we decode it to store as a string in the database\n",
    "\n",
    "        encrypted_password = fernet.encrypt(password.encode()).decode()\n",
    "\n",
    "        # Insert into DB\n",
    "        cursor.execute(\"\"\"\n",
    "            INSERT INTO accounts (username, encrypted_password, proxy, last_used, status)\n",
    "            VALUES (?, ?, ?, ?, ?)\n",
    "        \"\"\", (username, encrypted_password, proxy or None, last_used or None, status))\n",
    "\n",
    "        # Commit the changes to the database\n",
    "        conn.commit()\n",
    "        # Close the cursor and connection\n",
    "    cursor.close()\n",
    "   \n",
    "\n",
    "    print(\"Accounts added successfully.\")"
   ]
  },
  {
   "cell_type": "code",
   "execution_count": 10,
   "metadata": {},
   "outputs": [
    {
     "name": "stdout",
     "output_type": "stream",
     "text": [
      "Accounts added successfully.\n"
     ]
    }
   ],
   "source": [
    "add_accounts()"
   ]
  },
  {
   "cell_type": "code",
   "execution_count": null,
   "metadata": {},
   "outputs": [],
   "source": []
  }
 ],
 "metadata": {
  "kernelspec": {
   "display_name": "webscraping",
   "language": "python",
   "name": "python3"
  },
  "language_info": {
   "codemirror_mode": {
    "name": "ipython",
    "version": 3
   },
   "file_extension": ".py",
   "mimetype": "text/x-python",
   "name": "python",
   "nbconvert_exporter": "python",
   "pygments_lexer": "ipython3",
   "version": "3.10.18"
  }
 },
 "nbformat": 4,
 "nbformat_minor": 2
}
