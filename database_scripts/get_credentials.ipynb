{
 "cells": [
  {
   "cell_type": "markdown",
   "metadata": {},
   "source": [
    "## Get Credentials (Effectivly Drafts)\n",
    "In this code, we create a way to get our credentials to add to our scraper.\n",
    "\n",
    "Output: We succesfully have needed credentials in a dict format!"
   ]
  },
  {
   "cell_type": "markdown",
   "metadata": {},
   "source": [
    "### First Way (Get Next Acccount from most recent last_used timestamp)"
   ]
  },
  {
   "cell_type": "code",
   "execution_count": 3,
   "metadata": {},
   "outputs": [],
   "source": [
    "import sqlite3\n",
    "from cryptography.fernet import Fernet\n",
    "import os\n",
    "import datetime\n",
    "\n",
    "\n",
    "# Open the key file to read the encryption key\n",
    "with open(\"../credentials/key.key\", \"rb\") as key_file:\n",
    "    key = key_file.read()\n",
    "\n",
    "# Initialize the Fernet cipher with the key\n",
    "fernet = Fernet(key)\n",
    "\n",
    "# Get next account automatically from the db by selecting the least recently used account that is still active\n",
    "def get_next_account():\n",
    "    conn = sqlite3.connect(\"../database/scraper.db\")\n",
    "    cursor = conn.cursor()\n",
    "\n",
    "    # Select the least recently used account that’s still active\n",
    "    cursor.execute(\"\"\"\n",
    "        SELECT id, username, encrypted_password, proxy\n",
    "        FROM accounts\n",
    "        WHERE status = 'active'\n",
    "        ORDER BY last_used ASC NULLS FIRST\n",
    "        LIMIT 1\n",
    "    \"\"\")\n",
    "    # fetch the first row from the results\n",
    "    row = cursor.fetchone()\n",
    "\n",
    "    # if the row is None, it means there are no active accounts\n",
    "    if row is None:\n",
    "        conn.close()\n",
    "        raise Exception(\"No active accounts available.\")\n",
    "    \n",
    "    # Unpack the row into variables\n",
    "    account_id, username, encrypted_password, proxy = row\n",
    "\n",
    "    # Decrypt the password\n",
    "    password = fernet.decrypt(encrypted_password.encode()).decode()\n",
    "\n",
    "    # Update the row with the current timestamp\n",
    "    cursor.execute(\"\"\"\n",
    "        UPDATE accounts\n",
    "        SET last_used = ?\n",
    "        WHERE id = ?\n",
    "    \"\"\", (datetime.datetime.now().isoformat(), account_id))\n",
    "    conn.commit()\n",
    "    conn.close()\n",
    "\n",
    "    # return the account details as a dictionary\n",
    "    return {\n",
    "        \"id\": account_id,\n",
    "        \"username\": username,\n",
    "        \"password\": password,\n",
    "        \"proxy\": proxy\n",
    "    }\n"
   ]
  },
  {
   "cell_type": "markdown",
   "metadata": {},
   "source": [
    "### Second Way (Get Account data by id)\n",
    "This is the one that I am going to use and the one I converted to a .py"
   ]
  },
  {
   "cell_type": "code",
   "execution_count": null,
   "metadata": {},
   "outputs": [],
   "source": [
    "def get_account(id):\n",
    "    conn = sqlite3.connect(\"../database/scraper.db\")\n",
    "    cursor = conn.cursor()\n",
    "\n",
    "    # Select the account by id that is still active\n",
    "    cursor.execute(\"\"\"\n",
    "        SELECT id, username, encrypted_password, proxy\n",
    "        FROM accounts\n",
    "        WHERE id = ? AND status = 'active'\n",
    "        ORDER BY last_used ASC NULLS FIRST\n",
    "        LIMIT 1\n",
    "    \"\"\", (id,))\n",
    "\n",
    "    # get the first row from all the results (there should only be one row)\n",
    "    row = cursor.fetchone()\n",
    "\n",
    "    # if no row is returned, raise an exception\n",
    "    if row is None:\n",
    "        conn.close()\n",
    "        raise Exception(\"No account with that id.\")\n",
    "\n",
    "    # unpack the row (which is a tuple) into variables\n",
    "    account_id, username, encrypted_password, proxy = row\n",
    "\n",
    "    # Decrypt the password\n",
    "    password = fernet.decrypt(encrypted_password.encode()).decode()\n",
    "\n",
    "    # Update last_used\n",
    "    cursor.execute(\"\"\"\n",
    "        UPDATE accounts\n",
    "        SET last_used = ?\n",
    "        WHERE id = ?\n",
    "    \"\"\", (datetime.datetime.now().isoformat(), account_id))\n",
    "    conn.commit()\n",
    "    conn.close()\n",
    "\n",
    "    # return the account details as a dictionary\n",
    "    return {\n",
    "        \"id\": account_id,\n",
    "        \"username\": username,\n",
    "        \"password\": password,\n",
    "        \"proxy\": proxy\n",
    "    }"
   ]
  },
  {
   "cell_type": "code",
   "execution_count": null,
   "metadata": {},
   "outputs": [
    {
     "data": {
      "text/plain": [
       "{'id': 1,\n",
       " 'username': 'ElizabethMoore2247',\n",
       " 'password': \"'=l/yt{tq<'O\",\n",
       " 'proxy': '156.228.114.248:3129'}"
      ]
     },
     "execution_count": 5,
     "metadata": {},
     "output_type": "execute_result"
    }
   ],
   "source": [
    "get_account(1)  # Example usage, for testing purposes, replace with the actual account ID you want to retrieve"
   ]
  },
  {
   "cell_type": "code",
   "execution_count": null,
   "metadata": {},
   "outputs": [],
   "source": []
  }
 ],
 "metadata": {
  "kernelspec": {
   "display_name": "webscraping",
   "language": "python",
   "name": "python3"
  },
  "language_info": {
   "codemirror_mode": {
    "name": "ipython",
    "version": 3
   },
   "file_extension": ".py",
   "mimetype": "text/x-python",
   "name": "python",
   "nbconvert_exporter": "python",
   "pygments_lexer": "ipython3",
   "version": "3.10.18"
  }
 },
 "nbformat": 4,
 "nbformat_minor": 2
}
