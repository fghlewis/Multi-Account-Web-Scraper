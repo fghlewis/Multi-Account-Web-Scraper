{
 "cells": [
  {
   "cell_type": "markdown",
   "metadata": {},
   "source": [
    "## Initialize our Accounts Table\n",
    "\n",
    "In the code we are just initializing/creating our accounts table to store all user accounts.\n",
    "\n",
    "Output: Our table is sucessfully created!"
   ]
  },
  {
   "cell_type": "code",
   "execution_count": null,
   "metadata": {},
   "outputs": [
    {
     "name": "stdout",
     "output_type": "stream",
     "text": [
      "Database and accounts table created.\n"
     ]
    }
   ],
   "source": [
    "import sqlite3\n",
    "import os\n",
    "\n",
    "# connect to the database (it will be created if it doesn't exist)\n",
    "conn = sqlite3.connect(\"../database/scraper.db\")\n",
    "# enable foreign key support so we can use foreign keys in our tables\n",
    "conn.execute(\"PRAGMA foreign_keys = ON;\")\n",
    "# create a cursor object to execute SQL commands\n",
    "cursor = conn.cursor()\n",
    "\n",
    "# create the accounts table if it doesn't exist\n",
    "cursor.execute(\"\"\"\n",
    "CREATE TABLE IF NOT EXISTS accounts (\n",
    "    id INTEGER PRIMARY KEY AUTOINCREMENT,\n",
    "    username TEXT NOT NULL,\n",
    "    encrypted_password TEXT NOT NULL,\n",
    "    proxy TEXT,\n",
    "    status TEXT DEFAULT 'active',\n",
    "    last_used TIMESTAMP\n",
    ")\n",
    "\"\"\")\n",
    "conn.commit()\n",
    "conn.close()\n",
    "\n",
    "print(\"Database and accounts table created.\")\n"
   ]
  },
  {
   "cell_type": "code",
   "execution_count": null,
   "metadata": {},
   "outputs": [],
   "source": []
  }
 ],
 "metadata": {
  "kernelspec": {
   "display_name": "webscraping",
   "language": "python",
   "name": "python3"
  },
  "language_info": {
   "codemirror_mode": {
    "name": "ipython",
    "version": 3
   },
   "file_extension": ".py",
   "mimetype": "text/x-python",
   "name": "python",
   "nbconvert_exporter": "python",
   "pygments_lexer": "ipython3",
   "version": "3.10.18"
  }
 },
 "nbformat": 4,
 "nbformat_minor": 2
}
