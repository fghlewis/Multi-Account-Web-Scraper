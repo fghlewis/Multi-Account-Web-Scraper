{
 "cells": [
  {
   "cell_type": "markdown",
   "metadata": {},
   "source": [
    "## Initialize our Qoutes Table\n",
    "\n",
    "In the code we are just initializing/creating our quotes table to store all user accounts.\n",
    "\n",
    "Output: Our table is sucessfully created!"
   ]
  },
  {
   "cell_type": "code",
   "execution_count": 1,
   "metadata": {},
   "outputs": [
    {
     "name": "stdout",
     "output_type": "stream",
     "text": [
      "Database and qoutes table created.\n"
     ]
    }
   ],
   "source": [
    "import sqlite3\n",
    "import os\n",
    "\n",
    "conn = sqlite3.connect(\"../database/scraper.db\")\n",
    "conn.execute(\"PRAGMA foreign_keys = ON;\")\n",
    "cursor = conn.cursor()\n",
    "\n",
    "cursor.execute(\"\"\"\n",
    "CREATE TABLE IF NOT EXISTS quotes (\n",
    "    id INTEGER PRIMARY KEY AUTOINCREMENT,\n",
    "    account_id INTEGER,\n",
    "    quote TEXT NOT NULL,\n",
    "    author TEXT NOT NULL,\n",
    "    scraped_at TIMESTAMP DEFAULT CURRENT_TIMESTAMP,\n",
    "    status TEXT DEFAULT 'active',\n",
    "    FOREIGN KEY (account_id) REFERENCES accounts(id)\n",
    ")\n",
    "\"\"\")\n",
    "\n",
    "conn.commit()\n",
    "conn.close()\n",
    "\n",
    "print(\"Database and qoutes table created.\")"
   ]
  },
  {
   "cell_type": "code",
   "execution_count": null,
   "metadata": {},
   "outputs": [],
   "source": []
  }
 ],
 "metadata": {
  "kernelspec": {
   "display_name": "webscraping",
   "language": "python",
   "name": "python3"
  },
  "language_info": {
   "codemirror_mode": {
    "name": "ipython",
    "version": 3
   },
   "file_extension": ".py",
   "mimetype": "text/x-python",
   "name": "python",
   "nbconvert_exporter": "python",
   "pygments_lexer": "ipython3",
   "version": "3.10.18"
  }
 },
 "nbformat": 4,
 "nbformat_minor": 2
}
