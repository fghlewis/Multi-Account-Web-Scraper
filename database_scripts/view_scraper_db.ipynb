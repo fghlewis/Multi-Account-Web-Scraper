{
 "cells": [
  {
   "cell_type": "markdown",
   "metadata": {},
   "source": [
    "## View our Database\n",
    "This allows us to view the tables we created in our scraper.db!"
   ]
  },
  {
   "cell_type": "code",
   "execution_count": 1,
   "metadata": {},
   "outputs": [
    {
     "name": "stdout",
     "output_type": "stream",
     "text": [
      "Accounts Columns: ['id', 'username', 'encrypted_password', 'proxy', 'status', 'last_used']\n",
      "Accounts:\n",
      "(1, 'ElizabethMoore2247', 'gAAAAABoeAuRpUSwqr3wC4G_nTB_Q18eA6ua0YuQrgrgFB1VkhPzQAI2oA9vhKSQi0tR2FEMstf_JoZPpeT1bNTVaYSLU_F1nQ==', '156.228.114.248:3129', 'active', '2025-07-16T15:57:22.156859')\n",
      "(2, 'JamesJones1151', 'gAAAAABoeAuRI0KMT10HgMiF46AKPLjJUxftOkAS2YI5a8HEk4u95VIipbn7WDr1MP39b9l70UAJ438850izqOtIxEulCNAw8w==', '156.228.175.183:3129', 'active', '2025-07-16T15:58:37.246248')\n",
      "(3, 'PatriciaJones2706', 'gAAAAABoeAuR3EKcW37sjajiKVeQWEGvS10bYe2d8oSNWWhi-z4Xd62O9t9hdM0oIKItUYW6BF3NmSEblMdn4Vju8VX0aE75tw==', '156.228.84.8:3129', 'active', '2025-07-18T14:07:53.169345')\n",
      "(4, 'WilliamBrown2132', 'gAAAAABoeAuRh50WZLcc1896M9KVzGKvnHWvvH7v2gD2woB6PoVdhFMbEYrGewWoO0UmRHC25THzPKzxJ3gd-lrwcCBs4Wi47A==', '156.242.45.155:3129', 'active', '2025-07-16T14:29:05.776087')\n",
      "(5, 'WilliamJones6822', 'gAAAAABoeAuRQhprb1hdHxJ87q4KOy7KpF0JUK5Llg2srZDYSDBmVvEh64R20JSCNJp0hnaDz0HtfvA5t7k2KGk2KIFxqaMoqg==', '156.228.124.2:3129', 'active', '2025-07-16T14:29:05.776700')\n",
      "(6, 'ElizabethWilliams4196', 'gAAAAABoeAuRrge4HnmpN9OlE1z5dsYfUh6Z3L2CypUJDp2KNfw9nRVXIGEgTe6T2LqWqAuWf0RVgW0oostCXSO0__AVwmIiDQ==', '156.233.85.129:3129', 'active', '2025-07-16T14:29:05.777297')\n",
      "(7, 'PatriciaSmith3548', 'gAAAAABoeAuRG9j2RroP0RaLzk8HeDUgjQma1rhKmSlnfdsfEqup5QH66cXsBR7Mim-jFlEEpWkTaLyr-vM65q2LhPZOyXt1iw==', '156.228.107.188:3129', 'active', '2025-07-16T14:29:05.777915')\n",
      "(8, 'LindaSmith3689', 'gAAAAABoeAuROv_xGvChI6lMDmQj1wu_RuncePhR_tZajGWZOyPO1qLByJwUKiBql87RjaEG2XrVNwUEL5Hz2LM4YLm9YuNxhA==', '156.248.86.147:3129', 'active', '2025-07-16T14:29:05.778495')\n",
      "(9, 'PatriciaJohnson2749', 'gAAAAABoeAuRt1GtmJPq3kijWs-Q23PoZ-WoIolL_OHyE_FfDb0Yd6biJYXIZXWs49dzKaUh95t0ricFwNrb5TUHZ4du_-EQyA==', '156.228.94.78:3129', 'active', '2025-07-16T14:29:05.779043')\n",
      "(10, 'JohnJones9972', 'gAAAAABoeAuRCH9IrcVkxJ2ez_WhLavl81FsYgaRwmSUrCWF53n4MRhZH-_injKUHJzRQlAHE3EoIA0dAhUqiL05My-iA_8Xpw==', '156.242.46.238:3129', 'active', '2025-07-16T14:29:05.779528')\n",
      "(11, 'LindaTaylor5003', 'gAAAAABoeAuRg3Xi7m_xt4INFEP7vyJDLNQgJXxzFEm5k32pCiNm7F7-8iTpiGxZxk2d4BY0q0tr279ODRFC81sZnm21hMvPvg==', '156.228.102.222:3129', 'active', '2025-07-16T14:29:05.780532')\n",
      "(12, 'RobertTaylor1961', 'gAAAAABoeAuRiIm3ktdrmm6NKwPUyf7nD0BhTHQNt71V1tfH0k162VIByiAR5r4z93D8c2SFkMm7mmuWTzTR5wZp0ZpTgLLLow==', '156.228.103.93:3129', 'active', '2025-07-16T14:29:05.781433')\n",
      "(13, 'ElizabethWilliams9666', 'gAAAAABoeAuRldvVyHT67HKV6WKg_kA9YVXFRvUpgjxWhDILhEyf-L_oZxR3BznUuCEMAc4NYaGFOHbI9z8dbA7W910yVeDJKA==', '45.202.77.50:3129', 'active', '2025-07-16T14:29:05.781937')\n",
      "(14, 'WilliamJohnson4456', 'gAAAAABoeAuRAf4bizum7UOMuDILkMXvktr5Mo67keGiNmGncaSARjuNaLhkaoKcYCdAKjpp71Lsh9SaURkWfqsWjb44VGiGig==', '156.228.108.67:3129', 'active', '2025-07-16T14:29:05.782584')\n",
      "(15, 'PatriciaWilson4986', 'gAAAAABoeAuRHS_K6M6wf1EGRze1d6xweTzRUqC0PrEffZVpzJCmJOP1GVzCeIWI0VMPtLaYZesTiMVIZhlfgKVoHinGiKGOHw==', '156.242.34.149:3129', 'active', '2025-07-16T14:29:05.783586')\n",
      "\n",
      "Quotes Columns: ['id', 'account_id', 'quote', 'author', 'scraped_at', 'status']\n",
      "Quotes:\n",
      "(1, 1, 'N/A', 'N/A', '2025-07-16 15:32:19.926773', 'error')\n",
      "(2, 1, 'N/A', 'N/A', '2025-07-16 15:36:43.505504', 'error')\n",
      "(3, 1, 'N/A', 'N/A', '2025-07-16 15:38:31.355097', 'error')\n",
      "(4, 1, 'N/A', 'N/A', '2025-07-16 15:39:50.004845', 'error')\n",
      "(5, 1, \"“A woman is like a tea bag; you never know how strong it is until it's in hot water.”\", 'Eleanor Roosevelt', '2025-07-16 15:41:43.432352', 'active')\n",
      "(6, 1, \"“Imperfection is beauty, madness is genius and it's better to be absolutely ridiculous than absolutely boring.”\", 'Marilyn Monroe', '2025-07-16 15:57:22.156208', 'active')\n",
      "(7, 2, '“It is our choices, Harry, that show what we truly are, far more than our abilities.”', 'J.K. Rowling', '2025-07-16 15:58:37.245923', 'active')\n",
      "(8, 3, '“The world as we have created it is a process of our thinking. It cannot be changed without changing our thinking.”', 'Albert Einstein', '2025-07-18 14:07:53.168999', 'active')\n"
     ]
    }
   ],
   "source": [
    "import sqlite3\n",
    "\n",
    "conn = sqlite3.connect(\"../database/scraper.db\")\n",
    "cursor = conn.cursor()\n",
    "\n",
    "# View columns + rows for accounts table\n",
    "cursor.execute(\"SELECT * FROM accounts\")\n",
    "account_columns = [description[0] for description in cursor.description]\n",
    "account_rows = cursor.fetchall()\n",
    "\n",
    "print(\"Accounts Columns:\", account_columns)\n",
    "print(\"Accounts:\")\n",
    "for row in account_rows:\n",
    "    print(row)\n",
    "\n",
    "# View columns + rows for quotes table\n",
    "cursor.execute(\"SELECT * FROM quotes\")\n",
    "quote_columns = [description[0] for description in cursor.description]\n",
    "quote_rows = cursor.fetchall()\n",
    "\n",
    "print(\"\\nQuotes Columns:\", quote_columns)\n",
    "print(\"Quotes:\")\n",
    "for row in quote_rows:\n",
    "    print(row)\n",
    "\n",
    "conn.close()\n",
    "\n"
   ]
  },
  {
   "cell_type": "code",
   "execution_count": null,
   "metadata": {},
   "outputs": [],
   "source": []
  }
 ],
 "metadata": {
  "kernelspec": {
   "display_name": "webscraping",
   "language": "python",
   "name": "python3"
  },
  "language_info": {
   "codemirror_mode": {
    "name": "ipython",
    "version": 3
   },
   "file_extension": ".py",
   "mimetype": "text/x-python",
   "name": "python",
   "nbconvert_exporter": "python",
   "pygments_lexer": "ipython3",
   "version": "3.10.18"
  }
 },
 "nbformat": 4,
 "nbformat_minor": 2
}
